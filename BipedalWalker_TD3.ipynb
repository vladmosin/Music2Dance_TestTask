{
 "cells": [
  {
   "cell_type": "code",
   "execution_count": 1,
   "metadata": {},
   "outputs": [],
   "source": [
    "import gym\n",
    "import os\n",
    "import matplotlib.pyplot as plt\n",
    "import copy\n",
    "from tqdm import tqdm\n",
    "import random\n",
    "import numpy as np\n",
    "from collections import deque\n",
    "import torch\n",
    "import contextlib\n",
    "from torch import nn\n",
    "from torch import optim\n",
    "import torch.nn.functional as F\n",
    "from plotly import graph_objects as go"
   ]
  },
  {
   "cell_type": "code",
   "execution_count": 2,
   "metadata": {},
   "outputs": [
    {
     "data": {
      "text/html": [
       "        <script type=\"text/javascript\">\n",
       "        window.PlotlyConfig = {MathJaxConfig: 'local'};\n",
       "        if (window.MathJax) {MathJax.Hub.Config({SVG: {font: \"STIX-Web\"}});}\n",
       "        if (typeof require !== 'undefined') {\n",
       "        require.undef(\"plotly\");\n",
       "        requirejs.config({\n",
       "            paths: {\n",
       "                'plotly': ['https://cdn.plot.ly/plotly-latest.min']\n",
       "            }\n",
       "        });\n",
       "        require(['plotly'], function(Plotly) {\n",
       "            window._Plotly = Plotly;\n",
       "        });\n",
       "        }\n",
       "        </script>\n",
       "        "
      ]
     },
     "metadata": {},
     "output_type": "display_data"
    }
   ],
   "source": [
    "from plotly.offline import download_plotlyjs, init_notebook_mode, plot, iplot\n",
    "init_notebook_mode(connected=True)"
   ]
  },
  {
   "cell_type": "code",
   "execution_count": 3,
   "metadata": {},
   "outputs": [],
   "source": [
    "ENV_ID = \"BipedalWalker-v2\"\n",
    "\n",
    "GAMMA = 0.99\n",
    "TAU = 0.05\n",
    "BATCH_SIZE = 256\n",
    "ACTOR_LR = 2e-4\n",
    "CRITIC_LR = 1e-4\n",
    "MAX_EPISODES = 1000\n",
    "MAX_TIMESTAMPS = 500\n",
    "SIGMA = 0.6\n",
    "THETA = 0.15\n",
    "EPS_MIN = 0.2\n",
    "EPS_MAX = 1\n",
    "CAPACITY = 50000\n",
    "TEST_INTERVAL = MAX_EPISODES // 50 if MAX_EPISODES >= 50 else 1\n",
    "TEST_EPISODES = 3\n",
    "TD3_POLICY_DELAY = 2\n",
    "DEVICE = torch.device(\"cuda\" if torch.cuda.is_available() else \"cpu\")"
   ]
  },
  {
   "cell_type": "code",
   "execution_count": 4,
   "metadata": {},
   "outputs": [],
   "source": [
    "class MemoryReplay:\n",
    "    def __init__(self):\n",
    "        self.memory = []\n",
    "        self.index = 0\n",
    "    \n",
    "    def __len__(self):\n",
    "        return len(self.memory)\n",
    "    \n",
    "    def append(self, elem):\n",
    "        if len(self) < CAPACITY:\n",
    "            self.memory.append(elem)\n",
    "        else:\n",
    "            self.memory[self.index] = elem\n",
    "            self.index = (self.index + 1) % CAPACITY\n",
    "            \n",
    "    def sample(self):\n",
    "        return [to_tensor(e) for e in zip(*random.sample(self.memory, BATCH_SIZE))]\n",
    "\n",
    "\n",
    "def to_tensor(x, dtype=torch.float):\n",
    "    return torch.tensor(x, dtype=dtype, device=DEVICE)"
   ]
  },
  {
   "cell_type": "code",
   "execution_count": 5,
   "metadata": {},
   "outputs": [],
   "source": [
    "class Noiser:\n",
    "    def __init__(self, action_space):\n",
    "        self.theta = THETA\n",
    "        self.sigma = SIGMA\n",
    "        self.action_dim = action_space.shape[0]\n",
    "        self.low = action_space.low[0]\n",
    "        self.high = action_space.high[0]\n",
    "        self.eps_max = EPS_MAX\n",
    "        self.eps_min = EPS_MIN\n",
    "        self.eps = self.eps_max\n",
    "        self.eps_decay = (self.eps_max - self.eps_min) / MAX_EPISODES\n",
    "        self.state = np.zeros(self.action_dim)\n",
    "\n",
    "    def update_eps(self):\n",
    "        self.eps -= self.eps_decay\n",
    "\n",
    "    def apply(self, action, clip=False):\n",
    "        self.state += - self.theta * self.state + self.sigma * np.random.randn(self.action_dim)\n",
    "        noise = self.eps * self.state\n",
    "        noise = np.clip(noise, -2 * SIGMA, 2 * SIGMA) if clip else noise\n",
    "        if isinstance(action, torch.Tensor):\n",
    "            return torch.clamp(action + to_tensor(noise), self.low, self.high)\n",
    "        else:\n",
    "            return np.clip(action + noise, self.low, self.high)"
   ]
  },
  {
   "cell_type": "code",
   "execution_count": 6,
   "metadata": {},
   "outputs": [],
   "source": [
    "class Actor(nn.Module):\n",
    "    def __init__(self, obs_size, act_size):\n",
    "        super(Actor, self).__init__()\n",
    "\n",
    "        self.net = nn.Sequential(\n",
    "            nn.Linear(obs_size, 400),\n",
    "            nn.LayerNorm(400),\n",
    "            nn.ReLU(),\n",
    "            nn.Linear(400, 300),\n",
    "            nn.LayerNorm(300),\n",
    "            nn.ReLU(),\n",
    "            nn.Linear(300, act_size),\n",
    "            nn.Tanh(),\n",
    "        )\n",
    "    \n",
    "    def forward(self, x):\n",
    "        return self.net(x)\n",
    "    \n",
    "    def np_action(self, state):\n",
    "        action = self.forward(torch.tensor(state, dtype=torch.float, device=DEVICE))\n",
    "        return action.detach().cpu().numpy()\n",
    "\n",
    "\n",
    "class Critic(nn.Module):\n",
    "    def __init__(self, obs_size, act_size):\n",
    "        super(Critic, self).__init__()\n",
    "\n",
    "        self.obs_net = nn.Sequential(\n",
    "            nn.Linear(obs_size, 400),\n",
    "            nn.LayerNorm(400),\n",
    "            nn.ReLU(),\n",
    "        )\n",
    "\n",
    "        self.out_net = nn.Sequential(\n",
    "            nn.Linear(400 + act_size, 300),\n",
    "            nn.LayerNorm(300),\n",
    "            nn.ReLU(),\n",
    "            nn.Linear(300, 1),\n",
    "        )\n",
    "\n",
    "    def forward(self, state, action):\n",
    "        obs = self.obs_net(state)\n",
    "        return self.out_net(torch.cat([obs, action], dim=1))"
   ]
  },
  {
   "cell_type": "code",
   "execution_count": 7,
   "metadata": {},
   "outputs": [],
   "source": [
    "def td3_update(step):\n",
    "    \n",
    "    state, action, reward, next_state, done = replay_buffer.sample()\n",
    "    critic1, critic2 = critic\n",
    "\n",
    "    target_actions = noise.apply(actor.target(next_state), clip=True)\n",
    "    expected_qvalue = torch.min(\n",
    "        critic1.target(next_state, target_actions),\n",
    "        critic2.target(next_state, target_actions),\n",
    "    )\n",
    "    expected_qvalue = reward.unsqueeze(1) + (1.0 - done.unsqueeze(1)) * GAMMA * expected_qvalue\n",
    "    expected_qvalue = expected_qvalue.detach()\n",
    "    qvalue1 = critic1(state, action)\n",
    "    qvalue2 = critic2(state, action)\n",
    "\n",
    "    loss1 = F.mse_loss(qvalue1, expected_qvalue)\n",
    "    update_critic(critic1, loss1)\n",
    "    \n",
    "    loss2 = F.mse_loss(qvalue2, expected_qvalue)\n",
    "    update_critic(critic2, loss2)\n",
    "\n",
    "    if step % TD3_POLICY_DELAY == 0:\n",
    "        actor_loss = - critic1(state, actor(state)).mean()\n",
    "        actor.optimizer.zero_grad()\n",
    "        actor_loss.backward()\n",
    "        actor.optimizer.step()\n",
    "\n",
    "        soft_update(critic1)\n",
    "        soft_update(critic2)\n",
    "        soft_update(actor)\n",
    "\n",
    "def update_critic(critic, loss):\n",
    "    critic.optimizer.zero_grad()\n",
    "    loss.backward()\n",
    "    critic.optimizer.step()\n",
    "    \n",
    "def soft_update(net):\n",
    "    for target_param, param in zip(net.target.parameters(), net.parameters()):\n",
    "        target_param.data.copy_(target_param.data * (1.0 - TAU) + param.data * TAU)"
   ]
  },
  {
   "cell_type": "code",
   "execution_count": 8,
   "metadata": {},
   "outputs": [],
   "source": [
    "def test_episode():\n",
    "    state = env.reset() \n",
    "    done, episode_reward = False, 0\n",
    "    while not done:\n",
    "        action = actor.target.np_action(state)\n",
    "        action = np.clip(action, env.action_space.low, env.action_space.high)\n",
    "        state, reward, done, _ = env.step(action)\n",
    "        episode_reward += reward\n",
    "    return episode_reward\n",
    "\n",
    "\n",
    "def test():\n",
    "    return [test_episode() for _ in range(TEST_EPISODES)]"
   ]
  },
  {
   "cell_type": "code",
   "execution_count": 9,
   "metadata": {},
   "outputs": [],
   "source": [
    "def play_episode():\n",
    "    state = env.reset()\n",
    "    noise.update_eps()\n",
    "    ep_reward = 0\n",
    "\n",
    "    for step in range(MAX_TIMESTAMPS):\n",
    "        action = noise.apply(actor.np_action(state))\n",
    "        next_state, reward, done, _ = env.step(action)\n",
    "\n",
    "        replay_buffer.append((state, action, reward, next_state, done))\n",
    "        state = next_state\n",
    "        ep_reward += reward\n",
    "\n",
    "        if len(replay_buffer) > BATCH_SIZE:\n",
    "            td3_update(step)\n",
    "        \n",
    "        if done:\n",
    "            break\n",
    "    \n",
    "    return ep_reward"
   ]
  },
  {
   "cell_type": "code",
   "execution_count": 10,
   "metadata": {},
   "outputs": [],
   "source": [
    "def get_context():\n",
    "    env = gym.make(ENV_ID)    \n",
    "    noise = Noiser(env.action_space)\n",
    "    actor = define_actor(env)\n",
    "    critic = define_critic(env)\n",
    "    replay_buffer = MemoryReplay()\n",
    "    \n",
    "    return env, noise, actor, critic, replay_buffer\n",
    "\n",
    "def get_critic(env):\n",
    "    critic_local = Critic(env.observation_space.shape[0], env.action_space.shape[0]).to(DEVICE)\n",
    "    critic_target = copy.deepcopy(critic_local)\n",
    "    critic_optimizer = optim.Adam(critic_local.parameters(), lr=CRITIC_LR)\n",
    "    critic = critic_local\n",
    "    critic.target = critic_target\n",
    "    critic.optimizer = critic_optimizer\n",
    "    \n",
    "    return critic\n",
    "    \n",
    "def define_critic(env):\n",
    "    return (get_critic(env), get_critic(env))\n",
    "\n",
    "def define_actor(env):\n",
    "    actor_local = Actor(env.observation_space.shape[0], env.action_space.shape[0]).to(DEVICE)\n",
    "    actor_target = copy.deepcopy(actor_local)\n",
    "    actor_optimizer = optim.Adam(actor_local.parameters(), lr=ACTOR_LR)\n",
    "    actor = actor_local\n",
    "    actor.target = actor_target\n",
    "    actor.optimizer = actor_optimizer\n",
    "    \n",
    "    return actor"
   ]
  },
  {
   "cell_type": "code",
   "execution_count": 11,
   "metadata": {},
   "outputs": [],
   "source": [
    "def train_draft():\n",
    "    train_rewards = []\n",
    "    test_rewards = []\n",
    "\n",
    "    for id_episode in tqdm(range(1, MAX_EPISODES + 1), total=MAX_EPISODES):\n",
    "\n",
    "        # play + train episode\n",
    "        reward = play_episode()\n",
    "\n",
    "        # record episode reward\n",
    "        train_rewards.append(reward)\n",
    "\n",
    "        # evaluate by exploitation\n",
    "        if id_episode % TEST_INTERVAL == 0:\n",
    "            test_rewards.append(\n",
    "                np.mean(test())\n",
    "            )\n",
    "            print(f\"episode: {id_episode} | exploit reward: {test_rewards[-1]:.3f}\")\n",
    "\n",
    "    return train_rewards, test_rewards"
   ]
  },
  {
   "cell_type": "code",
   "execution_count": 13,
   "metadata": {},
   "outputs": [],
   "source": [
    "env, noise, actor, critic, replay_buffer = get_context()\n",
    "train_rewards, test_rewards = train_draft()"
   ]
  },
  {
   "cell_type": "code",
   "execution_count": 17,
   "metadata": {},
   "outputs": [
    {
     "data": {
      "application/vnd.plotly.v1+json": {
       "config": {
        "plotlyServerURL": "https://plot.ly"
       },
       "data": [
        {
         "name": "Test reward (exploit)",
         "type": "scatter",
         "x": [
          1,
          7,
          13,
          19,
          25,
          31,
          37,
          43,
          49,
          55,
          61,
          67,
          73,
          79,
          85,
          91,
          97,
          103,
          109,
          115,
          121,
          127,
          133,
          139,
          145,
          151,
          157,
          163,
          169,
          175,
          181,
          187,
          193,
          199,
          205,
          211,
          217,
          223,
          229,
          235,
          241,
          247,
          253,
          259,
          265,
          271,
          277,
          283,
          289,
          295
         ],
         "y": [
          -127.50400405592471,
          -108.64615554262504,
          -168.82759942032504,
          -165.8641674252067,
          -151.4414560290791,
          -155.39468847683173,
          -149.4707410191792,
          -148.9999757724601,
          -127.66128415285209,
          -116.57989041410087,
          -75.23938891471177,
          25.50529593265119,
          74.77817326488501,
          -0.40803530537259175,
          132.73635619162238,
          75.89825967205843,
          124.65034474842963,
          134.29378183091146,
          155.47760659873063,
          199.3432687720264,
          214.2819557584962,
          115.99783414294052,
          218.5790085704714,
          230.78619837382908,
          244.2392922068715,
          221.08806295519193,
          253.17681968574152,
          240.23836908293643,
          272.367219490135,
          260.6556107768758,
          291.8399950326447,
          288.8333972048727,
          275.74991129572805,
          286.55980491655583,
          163.38855059145274,
          296.63368630985036,
          294.81101020709394,
          217.45592877049913,
          300.3241623965328,
          305.06546868393247,
          304.3775642797891,
          310.4964323732418,
          297.9435962485058,
          -51.76083255902105,
          304.91037343698866,
          306.9633009526009,
          223.39435250478826,
          263.6277158568807,
          313.45994632562446,
          313.8057112253332
         ]
        },
        {
         "name": "Train reward (exploration)",
         "type": "scatter",
         "x": [
          1,
          7,
          13,
          19,
          25,
          31,
          37,
          43,
          49,
          55,
          61,
          67,
          73,
          79,
          85,
          91,
          97,
          103,
          109,
          115,
          121,
          127,
          133,
          139,
          145,
          151,
          157,
          163,
          169,
          175,
          181,
          187,
          193,
          199,
          205,
          211,
          217,
          223,
          229,
          235,
          241,
          247,
          253,
          259,
          265,
          271,
          277,
          283,
          289,
          295
         ],
         "y": [
          -113.17832096610655,
          -108.77667483261087,
          -113.30053711219611,
          -118.85186909420148,
          -107.65821717500573,
          -121.11037222084812,
          -48.615234676973834,
          -126.17447968127543,
          -117.36294080868296,
          -38.92381716094145,
          -119.36863912946741,
          -36.611829917118676,
          -55.01873757318171,
          -103.78219507884681,
          -104.0118153541932,
          -44.317205117381945,
          -44.62074368191818,
          -50.88229297998291,
          -104.74773557411869,
          -103.86491456263263,
          -51.055939298668115,
          -43.99168355081323,
          -52.87933189082156,
          -120.84775171079507,
          -126.48705044832815,
          -98.94888185256852,
          -40.884646403292194,
          -29.761843514359605,
          -121.43683607711888,
          -22.96854614626637,
          -37.551733113824874,
          -112.92915734336673,
          -31.244086382833366,
          -35.26213091642833,
          -31.762619020554368,
          -32.483575160368396,
          -129.07195006178821,
          -32.33614229171792,
          -23.92297737464686,
          -29.841917691713363,
          -35.66427218228627,
          -27.809373415595072,
          -101.79982250744908,
          -25.038499364476603,
          -33.3471258281616,
          -136.86054146230688,
          -29.30123806024445,
          -118.16905226772222,
          -31.162346834154842,
          -30.318324666557373,
          -10.576660366852751,
          -30.291357554237138,
          -20.254152766035162,
          -103.6258264394086,
          -25.171065577990504,
          -15.161271543972205,
          -22.016982395149952,
          -18.151131317763006,
          -107.8588132770871,
          -29.331322863927554,
          -15.361683956193374,
          -14.525198326085125,
          -12.693294154579686,
          -109.95869698603738,
          -8.558523435359534,
          -15.37176515755155,
          -23.567173402064416,
          -120.21336241266295,
          -99.41494456558834,
          -8.911524350898535,
          -3.799180690805936,
          -3.778662402565297,
          -103.76879414029575,
          -6.122139449696028,
          -2.301687723091726,
          4.359031704833863,
          3.584310829022762,
          2.10866109297891,
          -8.728764608901447,
          4.068133642889359,
          3.0843129427894573,
          1.3804388030463337,
          7.7623597563820015,
          13.338859533306849,
          7.7263821904595185,
          -113.87308825717514,
          16.744027050051592,
          6.0738464523679765,
          5.0856966509840245,
          2.006025901808938,
          -123.57207052627291,
          12.493208597541072,
          6.235270485084444,
          -115.06998484957946,
          11.518688519997907,
          7.662294967282483,
          8.488075279917934,
          15.326559831754219,
          9.98988723121931,
          11.457331841655346,
          -1.3859722210502579,
          12.144091469045001,
          20.333210811690527,
          3.2739800334290554,
          21.412595737512586,
          6.709635187904951,
          24.01829975753801,
          11.681581066032399,
          20.224061473054416,
          7.9775638637082915,
          9.395226913863736,
          12.810685457152038,
          11.810745177504987,
          18.468958299140798,
          -115.95669650251419,
          -96.56859292416709,
          9.77422109482662,
          6.6582027013420495,
          -109.49075030283743,
          6.532628216439878,
          18.3257188103353,
          37.998282987326114,
          12.006238658062943,
          11.606798149086625,
          28.510185728603872,
          10.548800259042093,
          16.975074848413296,
          19.214318938326077,
          29.130966967570473,
          20.343479196996647,
          26.95001191691888,
          30.045005362746636,
          18.711044210112266,
          15.787188344806296,
          18.578079456237212,
          15.825025043255232,
          34.472974052183396,
          19.67883190634642,
          34.978522660148485,
          34.55778342688634,
          23.981031994283086,
          30.027181674710302,
          30.204670244549177,
          16.40894976130379,
          31.3219487125202,
          36.620282160592616,
          42.02732889519052,
          39.33232682360092,
          34.0197917147302,
          38.792432017860385,
          29.914433441980183,
          32.21008236831434,
          40.07303285507001,
          36.959313574118234,
          33.210680544998574,
          44.678928539711954,
          24.13714977519576,
          28.414381519626247,
          45.62720298328782,
          -62.7878243786362,
          41.31498098879334,
          40.076316506324524,
          48.72944844918902,
          38.90532281349179,
          41.37035250630008,
          14.452677156903103,
          36.61813515958845,
          44.1163519953691,
          55.15726125438813,
          36.178090398399995,
          46.599873706615234,
          43.85590064466096,
          33.410170650252795,
          45.321566556190994,
          42.264915891372944,
          54.4688317534985,
          58.48065641708139,
          -71.13134749380731,
          52.7088493916256,
          45.527680550612004,
          -77.54601615381185,
          54.956339293275306,
          49.75909759275509,
          58.25117985998153,
          43.09464930985992,
          -60.95165615800492,
          -81.77537158411971,
          -60.89818034765626,
          48.165919222028855,
          43.33236576248752,
          -61.7932574861218,
          -78.98209374072421,
          57.150215844902164,
          50.238207678986946,
          61.04462482783571,
          65.58541567315613,
          68.50580490394869,
          74.81997370372682,
          65.21696304267446,
          51.554241542101956,
          65.37241055319048,
          62.30001243909749,
          70.67703007470541,
          81.58988889192113,
          70.42880202493762,
          -38.16156699960514,
          89.5785013453241,
          -103.66254353122277,
          -35.2768238131349,
          -98.17848789319049,
          -37.34381709048027,
          80.41349521218119,
          65.41886297959356,
          75.1981714861562,
          73.16762712328934,
          -31.0164288333968,
          -57.77033977478663,
          -42.50850807041961,
          80.92114834403014,
          87.42694159204608,
          73.49870998283315,
          75.6314069476687,
          83.70430846759064,
          85.28023522277057,
          85.34190081568427,
          90.30954414744966,
          -94.92350364838735,
          97.84430970842837,
          94.16838972995409,
          94.17485678823145,
          108.29987103050114,
          99.34481057409508,
          90.15123342005957,
          99.8136620436243,
          106.09728616534144,
          102.80558344236161,
          111.57123027132882,
          97.82089728497172,
          109.3318600334812,
          113.09335035424257,
          115.34831649109914,
          -4.210394117537575,
          105.01257524159625,
          112.86608045847348,
          -13.518812349313265,
          123.6073969006372,
          -57.26181732859803,
          105.16286377053997,
          112.88011763253448,
          -1.6345892979633163,
          -8.744650894852526,
          15.07012065378099,
          129.7327537230978,
          114.10720649539152,
          128.2949610857297,
          124.0806809827249,
          126.14227572166438,
          133.29327361738038,
          132.23545300579036,
          140.15689490752632,
          141.592973884255,
          137.83545157864575,
          128.49961671439493,
          -83.99361181310351,
          -80.18297941339542,
          122.85278775231451,
          128.7115514891633,
          34.331255211503304,
          -19.850638800568362,
          148.9693646199453,
          143.352089514704,
          41.947654348169436,
          -103.32560624364334,
          149.79845715300442,
          145.19539512285655,
          -34.299368400007566,
          152.37739194058588,
          151.6317337448841,
          140.40058873575956,
          148.81300905011332,
          155.44423030423718,
          159.25435424115756,
          27.62788722525771,
          -30.310379339227694,
          155.5934719674773,
          156.3707584837799,
          152.6359738709895,
          48.700441569004084,
          148.3828406233509,
          149.725698102102,
          152.60958124074247,
          155.3356183884861,
          155.10564363937894,
          164.01388239830808,
          155.96440555843236,
          151.01230115603425,
          162.63169428756194,
          13.601772420140307,
          31.213793295231,
          165.722759773634
         ]
        },
        {
         "line": {
          "color": "grey",
          "dash": "dash",
          "width": 2
         },
         "name": "win",
         "type": "scatter",
         "x": [
          1,
          7,
          13,
          19,
          25,
          31,
          37,
          43,
          49,
          55,
          61,
          67,
          73,
          79,
          85,
          91,
          97,
          103,
          109,
          115,
          121,
          127,
          133,
          139,
          145,
          151,
          157,
          163,
          169,
          175,
          181,
          187,
          193,
          199,
          205,
          211,
          217,
          223,
          229,
          235,
          241,
          247,
          253,
          259,
          265,
          271,
          277,
          283,
          289,
          295
         ],
         "y": [
          300,
          300,
          300,
          300,
          300,
          300,
          300,
          300,
          300,
          300,
          300,
          300,
          300,
          300,
          300,
          300,
          300,
          300,
          300,
          300,
          300,
          300,
          300,
          300,
          300,
          300,
          300,
          300,
          300,
          300,
          300,
          300,
          300,
          300,
          300,
          300,
          300,
          300,
          300,
          300,
          300,
          300,
          300,
          300,
          300,
          300,
          300,
          300,
          300,
          300
         ]
        }
       ],
       "layout": {
        "autosize": true,
        "template": {
         "data": {
          "bar": [
           {
            "error_x": {
             "color": "#2a3f5f"
            },
            "error_y": {
             "color": "#2a3f5f"
            },
            "marker": {
             "line": {
              "color": "#E5ECF6",
              "width": 0.5
             }
            },
            "type": "bar"
           }
          ],
          "barpolar": [
           {
            "marker": {
             "line": {
              "color": "#E5ECF6",
              "width": 0.5
             }
            },
            "type": "barpolar"
           }
          ],
          "carpet": [
           {
            "aaxis": {
             "endlinecolor": "#2a3f5f",
             "gridcolor": "white",
             "linecolor": "white",
             "minorgridcolor": "white",
             "startlinecolor": "#2a3f5f"
            },
            "baxis": {
             "endlinecolor": "#2a3f5f",
             "gridcolor": "white",
             "linecolor": "white",
             "minorgridcolor": "white",
             "startlinecolor": "#2a3f5f"
            },
            "type": "carpet"
           }
          ],
          "choropleth": [
           {
            "colorbar": {
             "outlinewidth": 0,
             "ticks": ""
            },
            "type": "choropleth"
           }
          ],
          "contour": [
           {
            "colorbar": {
             "outlinewidth": 0,
             "ticks": ""
            },
            "colorscale": [
             [
              0,
              "#0d0887"
             ],
             [
              0.1111111111111111,
              "#46039f"
             ],
             [
              0.2222222222222222,
              "#7201a8"
             ],
             [
              0.3333333333333333,
              "#9c179e"
             ],
             [
              0.4444444444444444,
              "#bd3786"
             ],
             [
              0.5555555555555556,
              "#d8576b"
             ],
             [
              0.6666666666666666,
              "#ed7953"
             ],
             [
              0.7777777777777778,
              "#fb9f3a"
             ],
             [
              0.8888888888888888,
              "#fdca26"
             ],
             [
              1,
              "#f0f921"
             ]
            ],
            "type": "contour"
           }
          ],
          "contourcarpet": [
           {
            "colorbar": {
             "outlinewidth": 0,
             "ticks": ""
            },
            "type": "contourcarpet"
           }
          ],
          "heatmap": [
           {
            "colorbar": {
             "outlinewidth": 0,
             "ticks": ""
            },
            "colorscale": [
             [
              0,
              "#0d0887"
             ],
             [
              0.1111111111111111,
              "#46039f"
             ],
             [
              0.2222222222222222,
              "#7201a8"
             ],
             [
              0.3333333333333333,
              "#9c179e"
             ],
             [
              0.4444444444444444,
              "#bd3786"
             ],
             [
              0.5555555555555556,
              "#d8576b"
             ],
             [
              0.6666666666666666,
              "#ed7953"
             ],
             [
              0.7777777777777778,
              "#fb9f3a"
             ],
             [
              0.8888888888888888,
              "#fdca26"
             ],
             [
              1,
              "#f0f921"
             ]
            ],
            "type": "heatmap"
           }
          ],
          "heatmapgl": [
           {
            "colorbar": {
             "outlinewidth": 0,
             "ticks": ""
            },
            "colorscale": [
             [
              0,
              "#0d0887"
             ],
             [
              0.1111111111111111,
              "#46039f"
             ],
             [
              0.2222222222222222,
              "#7201a8"
             ],
             [
              0.3333333333333333,
              "#9c179e"
             ],
             [
              0.4444444444444444,
              "#bd3786"
             ],
             [
              0.5555555555555556,
              "#d8576b"
             ],
             [
              0.6666666666666666,
              "#ed7953"
             ],
             [
              0.7777777777777778,
              "#fb9f3a"
             ],
             [
              0.8888888888888888,
              "#fdca26"
             ],
             [
              1,
              "#f0f921"
             ]
            ],
            "type": "heatmapgl"
           }
          ],
          "histogram": [
           {
            "marker": {
             "colorbar": {
              "outlinewidth": 0,
              "ticks": ""
             }
            },
            "type": "histogram"
           }
          ],
          "histogram2d": [
           {
            "colorbar": {
             "outlinewidth": 0,
             "ticks": ""
            },
            "colorscale": [
             [
              0,
              "#0d0887"
             ],
             [
              0.1111111111111111,
              "#46039f"
             ],
             [
              0.2222222222222222,
              "#7201a8"
             ],
             [
              0.3333333333333333,
              "#9c179e"
             ],
             [
              0.4444444444444444,
              "#bd3786"
             ],
             [
              0.5555555555555556,
              "#d8576b"
             ],
             [
              0.6666666666666666,
              "#ed7953"
             ],
             [
              0.7777777777777778,
              "#fb9f3a"
             ],
             [
              0.8888888888888888,
              "#fdca26"
             ],
             [
              1,
              "#f0f921"
             ]
            ],
            "type": "histogram2d"
           }
          ],
          "histogram2dcontour": [
           {
            "colorbar": {
             "outlinewidth": 0,
             "ticks": ""
            },
            "colorscale": [
             [
              0,
              "#0d0887"
             ],
             [
              0.1111111111111111,
              "#46039f"
             ],
             [
              0.2222222222222222,
              "#7201a8"
             ],
             [
              0.3333333333333333,
              "#9c179e"
             ],
             [
              0.4444444444444444,
              "#bd3786"
             ],
             [
              0.5555555555555556,
              "#d8576b"
             ],
             [
              0.6666666666666666,
              "#ed7953"
             ],
             [
              0.7777777777777778,
              "#fb9f3a"
             ],
             [
              0.8888888888888888,
              "#fdca26"
             ],
             [
              1,
              "#f0f921"
             ]
            ],
            "type": "histogram2dcontour"
           }
          ],
          "mesh3d": [
           {
            "colorbar": {
             "outlinewidth": 0,
             "ticks": ""
            },
            "type": "mesh3d"
           }
          ],
          "parcoords": [
           {
            "line": {
             "colorbar": {
              "outlinewidth": 0,
              "ticks": ""
             }
            },
            "type": "parcoords"
           }
          ],
          "pie": [
           {
            "automargin": true,
            "type": "pie"
           }
          ],
          "scatter": [
           {
            "marker": {
             "colorbar": {
              "outlinewidth": 0,
              "ticks": ""
             }
            },
            "type": "scatter"
           }
          ],
          "scatter3d": [
           {
            "line": {
             "colorbar": {
              "outlinewidth": 0,
              "ticks": ""
             }
            },
            "marker": {
             "colorbar": {
              "outlinewidth": 0,
              "ticks": ""
             }
            },
            "type": "scatter3d"
           }
          ],
          "scattercarpet": [
           {
            "marker": {
             "colorbar": {
              "outlinewidth": 0,
              "ticks": ""
             }
            },
            "type": "scattercarpet"
           }
          ],
          "scattergeo": [
           {
            "marker": {
             "colorbar": {
              "outlinewidth": 0,
              "ticks": ""
             }
            },
            "type": "scattergeo"
           }
          ],
          "scattergl": [
           {
            "marker": {
             "colorbar": {
              "outlinewidth": 0,
              "ticks": ""
             }
            },
            "type": "scattergl"
           }
          ],
          "scattermapbox": [
           {
            "marker": {
             "colorbar": {
              "outlinewidth": 0,
              "ticks": ""
             }
            },
            "type": "scattermapbox"
           }
          ],
          "scatterpolar": [
           {
            "marker": {
             "colorbar": {
              "outlinewidth": 0,
              "ticks": ""
             }
            },
            "type": "scatterpolar"
           }
          ],
          "scatterpolargl": [
           {
            "marker": {
             "colorbar": {
              "outlinewidth": 0,
              "ticks": ""
             }
            },
            "type": "scatterpolargl"
           }
          ],
          "scatterternary": [
           {
            "marker": {
             "colorbar": {
              "outlinewidth": 0,
              "ticks": ""
             }
            },
            "type": "scatterternary"
           }
          ],
          "surface": [
           {
            "colorbar": {
             "outlinewidth": 0,
             "ticks": ""
            },
            "colorscale": [
             [
              0,
              "#0d0887"
             ],
             [
              0.1111111111111111,
              "#46039f"
             ],
             [
              0.2222222222222222,
              "#7201a8"
             ],
             [
              0.3333333333333333,
              "#9c179e"
             ],
             [
              0.4444444444444444,
              "#bd3786"
             ],
             [
              0.5555555555555556,
              "#d8576b"
             ],
             [
              0.6666666666666666,
              "#ed7953"
             ],
             [
              0.7777777777777778,
              "#fb9f3a"
             ],
             [
              0.8888888888888888,
              "#fdca26"
             ],
             [
              1,
              "#f0f921"
             ]
            ],
            "type": "surface"
           }
          ],
          "table": [
           {
            "cells": {
             "fill": {
              "color": "#EBF0F8"
             },
             "line": {
              "color": "white"
             }
            },
            "header": {
             "fill": {
              "color": "#C8D4E3"
             },
             "line": {
              "color": "white"
             }
            },
            "type": "table"
           }
          ]
         },
         "layout": {
          "annotationdefaults": {
           "arrowcolor": "#2a3f5f",
           "arrowhead": 0,
           "arrowwidth": 1
          },
          "coloraxis": {
           "colorbar": {
            "outlinewidth": 0,
            "ticks": ""
           }
          },
          "colorscale": {
           "diverging": [
            [
             0,
             "#8e0152"
            ],
            [
             0.1,
             "#c51b7d"
            ],
            [
             0.2,
             "#de77ae"
            ],
            [
             0.3,
             "#f1b6da"
            ],
            [
             0.4,
             "#fde0ef"
            ],
            [
             0.5,
             "#f7f7f7"
            ],
            [
             0.6,
             "#e6f5d0"
            ],
            [
             0.7,
             "#b8e186"
            ],
            [
             0.8,
             "#7fbc41"
            ],
            [
             0.9,
             "#4d9221"
            ],
            [
             1,
             "#276419"
            ]
           ],
           "sequential": [
            [
             0,
             "#0d0887"
            ],
            [
             0.1111111111111111,
             "#46039f"
            ],
            [
             0.2222222222222222,
             "#7201a8"
            ],
            [
             0.3333333333333333,
             "#9c179e"
            ],
            [
             0.4444444444444444,
             "#bd3786"
            ],
            [
             0.5555555555555556,
             "#d8576b"
            ],
            [
             0.6666666666666666,
             "#ed7953"
            ],
            [
             0.7777777777777778,
             "#fb9f3a"
            ],
            [
             0.8888888888888888,
             "#fdca26"
            ],
            [
             1,
             "#f0f921"
            ]
           ],
           "sequentialminus": [
            [
             0,
             "#0d0887"
            ],
            [
             0.1111111111111111,
             "#46039f"
            ],
            [
             0.2222222222222222,
             "#7201a8"
            ],
            [
             0.3333333333333333,
             "#9c179e"
            ],
            [
             0.4444444444444444,
             "#bd3786"
            ],
            [
             0.5555555555555556,
             "#d8576b"
            ],
            [
             0.6666666666666666,
             "#ed7953"
            ],
            [
             0.7777777777777778,
             "#fb9f3a"
            ],
            [
             0.8888888888888888,
             "#fdca26"
            ],
            [
             1,
             "#f0f921"
            ]
           ]
          },
          "colorway": [
           "#636efa",
           "#EF553B",
           "#00cc96",
           "#ab63fa",
           "#FFA15A",
           "#19d3f3",
           "#FF6692",
           "#B6E880",
           "#FF97FF",
           "#FECB52"
          ],
          "font": {
           "color": "#2a3f5f"
          },
          "geo": {
           "bgcolor": "white",
           "lakecolor": "white",
           "landcolor": "#E5ECF6",
           "showlakes": true,
           "showland": true,
           "subunitcolor": "white"
          },
          "hoverlabel": {
           "align": "left"
          },
          "hovermode": "closest",
          "mapbox": {
           "style": "light"
          },
          "paper_bgcolor": "white",
          "plot_bgcolor": "#E5ECF6",
          "polar": {
           "angularaxis": {
            "gridcolor": "white",
            "linecolor": "white",
            "ticks": ""
           },
           "bgcolor": "#E5ECF6",
           "radialaxis": {
            "gridcolor": "white",
            "linecolor": "white",
            "ticks": ""
           }
          },
          "scene": {
           "xaxis": {
            "backgroundcolor": "#E5ECF6",
            "gridcolor": "white",
            "gridwidth": 2,
            "linecolor": "white",
            "showbackground": true,
            "ticks": "",
            "zerolinecolor": "white"
           },
           "yaxis": {
            "backgroundcolor": "#E5ECF6",
            "gridcolor": "white",
            "gridwidth": 2,
            "linecolor": "white",
            "showbackground": true,
            "ticks": "",
            "zerolinecolor": "white"
           },
           "zaxis": {
            "backgroundcolor": "#E5ECF6",
            "gridcolor": "white",
            "gridwidth": 2,
            "linecolor": "white",
            "showbackground": true,
            "ticks": "",
            "zerolinecolor": "white"
           }
          },
          "shapedefaults": {
           "line": {
            "color": "#2a3f5f"
           }
          },
          "ternary": {
           "aaxis": {
            "gridcolor": "white",
            "linecolor": "white",
            "ticks": ""
           },
           "baxis": {
            "gridcolor": "white",
            "linecolor": "white",
            "ticks": ""
           },
           "bgcolor": "#E5ECF6",
           "caxis": {
            "gridcolor": "white",
            "linecolor": "white",
            "ticks": ""
           }
          },
          "title": {
           "x": 0.05
          },
          "xaxis": {
           "automargin": true,
           "gridcolor": "white",
           "linecolor": "white",
           "ticks": "",
           "title": {
            "standoff": 15
           },
           "zerolinecolor": "white",
           "zerolinewidth": 2
          },
          "yaxis": {
           "automargin": true,
           "gridcolor": "white",
           "linecolor": "white",
           "ticks": "",
           "title": {
            "standoff": 15
           },
           "zerolinecolor": "white",
           "zerolinewidth": 2
          }
         }
        },
        "title": {
         "text": "TD3: BipedalWalker-v2"
        },
        "xaxis": {
         "autorange": true,
         "range": [
          1,
          295
         ],
         "title": {
          "text": "Episodes"
         },
         "type": "linear"
        },
        "yaxis": {
         "autorange": true,
         "range": [
          -195.6405611228616,
          340.61867292786974
         ],
         "title": {
          "text": "Reward"
         },
         "type": "linear"
        }
       }
      },
      "image/png": "[encoded data removed]",
      "text/html": [
       "<div>\n",
       "        \n",
       "        \n",
       "            <div id=\"cba81610-811f-465b-953d-917c68441f21\" class=\"plotly-graph-div\" style=\"height:525px; width:100%;\"></div>\n",
       "            <script type=\"text/javascript\">\n",
       "                require([\"plotly\"], function(Plotly) {\n",
       "                    window.PLOTLYENV=window.PLOTLYENV || {};\n",
       "                    \n",
       "                if (document.getElementById(\"cba81610-811f-465b-953d-917c68441f21\")) {\n",
       "                    Plotly.newPlot(\n",
       "                        'cba81610-811f-465b-953d-917c68441f21',\n",
       "                        [{\"name\": \"Test reward (exploit)\", \"type\": \"scatter\", \"x\": [1, 7, 13, 19, 25, 31, 37, 43, 49, 55, 61, 67, 73, 79, 85, 91, 97, 103, 109, 115, 121, 127, 133, 139, 145, 151, 157, 163, 169, 175, 181, 187, 193, 199, 205, 211, 217, 223, 229, 235, 241, 247, 253, 259, 265, 271, 277, 283, 289, 295], \"y\": [-127.50400405592471, -108.64615554262504, -168.82759942032504, -165.8641674252067, -151.4414560290791, -155.39468847683173, -149.4707410191792, -148.9999757724601, -127.66128415285209, -116.57989041410087, -75.23938891471177, 25.50529593265119, 74.77817326488501, -0.40803530537259175, 132.73635619162238, 75.89825967205843, 124.65034474842963, 134.29378183091146, 155.47760659873063, 199.3432687720264, 214.2819557584962, 115.99783414294052, 218.5790085704714, 230.78619837382908, 244.2392922068715, 221.08806295519193, 253.17681968574152, 240.23836908293643, 272.367219490135, 260.6556107768758, 291.8399950326447, 288.8333972048727, 275.74991129572805, 286.55980491655583, 163.38855059145274, 296.63368630985036, 294.81101020709394, 217.45592877049913, 300.3241623965328, 305.06546868393247, 304.3775642797891, 310.4964323732418, 297.9435962485058, -51.76083255902105, 304.91037343698866, 306.9633009526009, 223.39435250478826, 263.6277158568807, 313.45994632562446, 313.8057112253332]}, {\"name\": \"Train reward (exploration)\", \"type\": \"scatter\", \"x\": [1, 7, 13, 19, 25, 31, 37, 43, 49, 55, 61, 67, 73, 79, 85, 91, 97, 103, 109, 115, 121, 127, 133, 139, 145, 151, 157, 163, 169, 175, 181, 187, 193, 199, 205, 211, 217, 223, 229, 235, 241, 247, 253, 259, 265, 271, 277, 283, 289, 295], \"y\": [-113.17832096610655, -108.77667483261087, -113.30053711219611, -118.85186909420148, -107.65821717500573, -121.11037222084812, -48.615234676973834, -126.17447968127543, -117.36294080868296, -38.92381716094145, -119.36863912946741, -36.611829917118676, -55.01873757318171, -103.78219507884681, -104.0118153541932, -44.317205117381945, -44.62074368191818, -50.88229297998291, -104.74773557411869, -103.86491456263263, -51.055939298668115, -43.99168355081323, -52.87933189082156, -120.84775171079507, -126.48705044832815, -98.94888185256852, -40.884646403292194, -29.761843514359605, -121.43683607711888, -22.96854614626637, -37.551733113824874, -112.92915734336673, -31.244086382833366, -35.26213091642833, -31.762619020554368, -32.483575160368396, -129.07195006178821, -32.33614229171792, -23.92297737464686, -29.841917691713363, -35.66427218228627, -27.809373415595072, -101.79982250744908, -25.038499364476603, -33.3471258281616, -136.86054146230688, -29.30123806024445, -118.16905226772222, -31.162346834154842, -30.318324666557373, -10.576660366852751, -30.291357554237138, -20.254152766035162, -103.6258264394086, -25.171065577990504, -15.161271543972205, -22.016982395149952, -18.151131317763006, -107.8588132770871, -29.331322863927554, -15.361683956193374, -14.525198326085125, -12.693294154579686, -109.95869698603738, -8.558523435359534, -15.37176515755155, -23.567173402064416, -120.21336241266295, -99.41494456558834, -8.911524350898535, -3.799180690805936, -3.778662402565297, -103.76879414029575, -6.122139449696028, -2.301687723091726, 4.359031704833863, 3.584310829022762, 2.10866109297891, -8.728764608901447, 4.068133642889359, 3.0843129427894573, 1.3804388030463337, 7.7623597563820015, 13.338859533306849, 7.7263821904595185, -113.87308825717514, 16.744027050051592, 6.0738464523679765, 5.0856966509840245, 2.006025901808938, -123.57207052627291, 12.493208597541072, 6.235270485084444, -115.06998484957946, 11.518688519997907, 7.662294967282483, 8.488075279917934, 15.326559831754219, 9.98988723121931, 11.457331841655346, -1.3859722210502579, 12.144091469045001, 20.333210811690527, 3.2739800334290554, 21.412595737512586, 6.709635187904951, 24.01829975753801, 11.681581066032399, 20.224061473054416, 7.9775638637082915, 9.395226913863736, 12.810685457152038, 11.810745177504987, 18.468958299140798, -115.95669650251419, -96.56859292416709, 9.77422109482662, 6.6582027013420495, -109.49075030283743, 6.532628216439878, 18.3257188103353, 37.998282987326114, 12.006238658062943, 11.606798149086625, 28.510185728603872, 10.548800259042093, 16.975074848413296, 19.214318938326077, 29.130966967570473, 20.343479196996647, 26.95001191691888, 30.045005362746636, 18.711044210112266, 15.787188344806296, 18.578079456237212, 15.825025043255232, 34.472974052183396, 19.67883190634642, 34.978522660148485, 34.55778342688634, 23.981031994283086, 30.027181674710302, 30.204670244549177, 16.40894976130379, 31.3219487125202, 36.620282160592616, 42.02732889519052, 39.33232682360092, 34.0197917147302, 38.792432017860385, 29.914433441980183, 32.21008236831434, 40.07303285507001, 36.959313574118234, 33.210680544998574, 44.678928539711954, 24.13714977519576, 28.414381519626247, 45.62720298328782, -62.7878243786362, 41.31498098879334, 40.076316506324524, 48.72944844918902, 38.90532281349179, 41.37035250630008, 14.452677156903103, 36.61813515958845, 44.1163519953691, 55.15726125438813, 36.178090398399995, 46.599873706615234, 43.85590064466096, 33.410170650252795, 45.321566556190994, 42.264915891372944, 54.4688317534985, 58.48065641708139, -71.13134749380731, 52.7088493916256, 45.527680550612004, -77.54601615381185, 54.956339293275306, 49.75909759275509, 58.25117985998153, 43.09464930985992, -60.95165615800492, -81.77537158411971, -60.89818034765626, 48.165919222028855, 43.33236576248752, -61.7932574861218, -78.98209374072421, 57.150215844902164, 50.238207678986946, 61.04462482783571, 65.58541567315613, 68.50580490394869, 74.81997370372682, 65.21696304267446, 51.554241542101956, 65.37241055319048, 62.30001243909749, 70.67703007470541, 81.58988889192113, 70.42880202493762, -38.16156699960514, 89.5785013453241, -103.66254353122277, -35.2768238131349, -98.17848789319049, -37.34381709048027, 80.41349521218119, 65.41886297959356, 75.1981714861562, 73.16762712328934, -31.0164288333968, -57.77033977478663, -42.50850807041961, 80.92114834403014, 87.42694159204608, 73.49870998283315, 75.6314069476687, 83.70430846759064, 85.28023522277057, 85.34190081568427, 90.30954414744966, -94.92350364838735, 97.84430970842837, 94.16838972995409, 94.17485678823145, 108.29987103050114, 99.34481057409508, 90.15123342005957, 99.8136620436243, 106.09728616534144, 102.80558344236161, 111.57123027132882, 97.82089728497172, 109.3318600334812, 113.09335035424257, 115.34831649109914, -4.210394117537575, 105.01257524159625, 112.86608045847348, -13.518812349313265, 123.6073969006372, -57.26181732859803, 105.16286377053997, 112.88011763253448, -1.6345892979633163, -8.744650894852526, 15.07012065378099, 129.7327537230978, 114.10720649539152, 128.2949610857297, 124.0806809827249, 126.14227572166438, 133.29327361738038, 132.23545300579036, 140.15689490752632, 141.592973884255, 137.83545157864575, 128.49961671439493, -83.99361181310351, -80.18297941339542, 122.85278775231451, 128.7115514891633, 34.331255211503304, -19.850638800568362, 148.9693646199453, 143.352089514704, 41.947654348169436, -103.32560624364334, 149.79845715300442, 145.19539512285655, -34.299368400007566, 152.37739194058588, 151.6317337448841, 140.40058873575956, 148.81300905011332, 155.44423030423718, 159.25435424115756, 27.62788722525771, -30.310379339227694, 155.5934719674773, 156.3707584837799, 152.6359738709895, 48.700441569004084, 148.3828406233509, 149.725698102102, 152.60958124074247, 155.3356183884861, 155.10564363937894, 164.01388239830808, 155.96440555843236, 151.01230115603425, 162.63169428756194, 13.601772420140307, 31.213793295231, 165.722759773634]}, {\"line\": {\"color\": \"grey\", \"dash\": \"dash\", \"width\": 2}, \"name\": \"win\", \"type\": \"scatter\", \"x\": [1, 7, 13, 19, 25, 31, 37, 43, 49, 55, 61, 67, 73, 79, 85, 91, 97, 103, 109, 115, 121, 127, 133, 139, 145, 151, 157, 163, 169, 175, 181, 187, 193, 199, 205, 211, 217, 223, 229, 235, 241, 247, 253, 259, 265, 271, 277, 283, 289, 295], \"y\": [300, 300, 300, 300, 300, 300, 300, 300, 300, 300, 300, 300, 300, 300, 300, 300, 300, 300, 300, 300, 300, 300, 300, 300, 300, 300, 300, 300, 300, 300, 300, 300, 300, 300, 300, 300, 300, 300, 300, 300, 300, 300, 300, 300, 300, 300, 300, 300, 300, 300]}],\n",
       "                        {\"template\": {\"data\": {\"bar\": [{\"error_x\": {\"color\": \"#2a3f5f\"}, \"error_y\": {\"color\": \"#2a3f5f\"}, \"marker\": {\"line\": {\"color\": \"#E5ECF6\", \"width\": 0.5}}, \"type\": \"bar\"}], \"barpolar\": [{\"marker\": {\"line\": {\"color\": \"#E5ECF6\", \"width\": 0.5}}, \"type\": \"barpolar\"}], \"carpet\": [{\"aaxis\": {\"endlinecolor\": \"#2a3f5f\", \"gridcolor\": \"white\", \"linecolor\": \"white\", \"minorgridcolor\": \"white\", \"startlinecolor\": \"#2a3f5f\"}, \"baxis\": {\"endlinecolor\": \"#2a3f5f\", \"gridcolor\": \"white\", \"linecolor\": \"white\", \"minorgridcolor\": \"white\", \"startlinecolor\": \"#2a3f5f\"}, \"type\": \"carpet\"}], \"choropleth\": [{\"colorbar\": {\"outlinewidth\": 0, \"ticks\": \"\"}, \"type\": \"choropleth\"}], \"contour\": [{\"colorbar\": {\"outlinewidth\": 0, \"ticks\": \"\"}, \"colorscale\": [[0.0, \"#0d0887\"], [0.1111111111111111, \"#46039f\"], [0.2222222222222222, \"#7201a8\"], [0.3333333333333333, \"#9c179e\"], [0.4444444444444444, \"#bd3786\"], [0.5555555555555556, \"#d8576b\"], [0.6666666666666666, \"#ed7953\"], [0.7777777777777778, \"#fb9f3a\"], [0.8888888888888888, \"#fdca26\"], [1.0, \"#f0f921\"]], \"type\": \"contour\"}], \"contourcarpet\": [{\"colorbar\": {\"outlinewidth\": 0, \"ticks\": \"\"}, \"type\": \"contourcarpet\"}], \"heatmap\": [{\"colorbar\": {\"outlinewidth\": 0, \"ticks\": \"\"}, \"colorscale\": [[0.0, \"#0d0887\"], [0.1111111111111111, \"#46039f\"], [0.2222222222222222, \"#7201a8\"], [0.3333333333333333, \"#9c179e\"], [0.4444444444444444, \"#bd3786\"], [0.5555555555555556, \"#d8576b\"], [0.6666666666666666, \"#ed7953\"], [0.7777777777777778, \"#fb9f3a\"], [0.8888888888888888, \"#fdca26\"], [1.0, \"#f0f921\"]], \"type\": \"heatmap\"}], \"heatmapgl\": [{\"colorbar\": {\"outlinewidth\": 0, \"ticks\": \"\"}, \"colorscale\": [[0.0, \"#0d0887\"], [0.1111111111111111, \"#46039f\"], [0.2222222222222222, \"#7201a8\"], [0.3333333333333333, \"#9c179e\"], [0.4444444444444444, \"#bd3786\"], [0.5555555555555556, \"#d8576b\"], [0.6666666666666666, \"#ed7953\"], [0.7777777777777778, \"#fb9f3a\"], [0.8888888888888888, \"#fdca26\"], [1.0, \"#f0f921\"]], \"type\": \"heatmapgl\"}], \"histogram\": [{\"marker\": {\"colorbar\": {\"outlinewidth\": 0, \"ticks\": \"\"}}, \"type\": \"histogram\"}], \"histogram2d\": [{\"colorbar\": {\"outlinewidth\": 0, \"ticks\": \"\"}, \"colorscale\": [[0.0, \"#0d0887\"], [0.1111111111111111, \"#46039f\"], [0.2222222222222222, \"#7201a8\"], [0.3333333333333333, \"#9c179e\"], [0.4444444444444444, \"#bd3786\"], [0.5555555555555556, \"#d8576b\"], [0.6666666666666666, \"#ed7953\"], [0.7777777777777778, \"#fb9f3a\"], [0.8888888888888888, \"#fdca26\"], [1.0, \"#f0f921\"]], \"type\": \"histogram2d\"}], \"histogram2dcontour\": [{\"colorbar\": {\"outlinewidth\": 0, \"ticks\": \"\"}, \"colorscale\": [[0.0, \"#0d0887\"], [0.1111111111111111, \"#46039f\"], [0.2222222222222222, \"#7201a8\"], [0.3333333333333333, \"#9c179e\"], [0.4444444444444444, \"#bd3786\"], [0.5555555555555556, \"#d8576b\"], [0.6666666666666666, \"#ed7953\"], [0.7777777777777778, \"#fb9f3a\"], [0.8888888888888888, \"#fdca26\"], [1.0, \"#f0f921\"]], \"type\": \"histogram2dcontour\"}], \"mesh3d\": [{\"colorbar\": {\"outlinewidth\": 0, \"ticks\": \"\"}, \"type\": \"mesh3d\"}], \"parcoords\": [{\"line\": {\"colorbar\": {\"outlinewidth\": 0, \"ticks\": \"\"}}, \"type\": \"parcoords\"}], \"pie\": [{\"automargin\": true, \"type\": \"pie\"}], \"scatter\": [{\"marker\": {\"colorbar\": {\"outlinewidth\": 0, \"ticks\": \"\"}}, \"type\": \"scatter\"}], \"scatter3d\": [{\"line\": {\"colorbar\": {\"outlinewidth\": 0, \"ticks\": \"\"}}, \"marker\": {\"colorbar\": {\"outlinewidth\": 0, \"ticks\": \"\"}}, \"type\": \"scatter3d\"}], \"scattercarpet\": [{\"marker\": {\"colorbar\": {\"outlinewidth\": 0, \"ticks\": \"\"}}, \"type\": \"scattercarpet\"}], \"scattergeo\": [{\"marker\": {\"colorbar\": {\"outlinewidth\": 0, \"ticks\": \"\"}}, \"type\": \"scattergeo\"}], \"scattergl\": [{\"marker\": {\"colorbar\": {\"outlinewidth\": 0, \"ticks\": \"\"}}, \"type\": \"scattergl\"}], \"scattermapbox\": [{\"marker\": {\"colorbar\": {\"outlinewidth\": 0, \"ticks\": \"\"}}, \"type\": \"scattermapbox\"}], \"scatterpolar\": [{\"marker\": {\"colorbar\": {\"outlinewidth\": 0, \"ticks\": \"\"}}, \"type\": \"scatterpolar\"}], \"scatterpolargl\": [{\"marker\": {\"colorbar\": {\"outlinewidth\": 0, \"ticks\": \"\"}}, \"type\": \"scatterpolargl\"}], \"scatterternary\": [{\"marker\": {\"colorbar\": {\"outlinewidth\": 0, \"ticks\": \"\"}}, \"type\": \"scatterternary\"}], \"surface\": [{\"colorbar\": {\"outlinewidth\": 0, \"ticks\": \"\"}, \"colorscale\": [[0.0, \"#0d0887\"], [0.1111111111111111, \"#46039f\"], [0.2222222222222222, \"#7201a8\"], [0.3333333333333333, \"#9c179e\"], [0.4444444444444444, \"#bd3786\"], [0.5555555555555556, \"#d8576b\"], [0.6666666666666666, \"#ed7953\"], [0.7777777777777778, \"#fb9f3a\"], [0.8888888888888888, \"#fdca26\"], [1.0, \"#f0f921\"]], \"type\": \"surface\"}], \"table\": [{\"cells\": {\"fill\": {\"color\": \"#EBF0F8\"}, \"line\": {\"color\": \"white\"}}, \"header\": {\"fill\": {\"color\": \"#C8D4E3\"}, \"line\": {\"color\": \"white\"}}, \"type\": \"table\"}]}, \"layout\": {\"annotationdefaults\": {\"arrowcolor\": \"#2a3f5f\", \"arrowhead\": 0, \"arrowwidth\": 1}, \"coloraxis\": {\"colorbar\": {\"outlinewidth\": 0, \"ticks\": \"\"}}, \"colorscale\": {\"diverging\": [[0, \"#8e0152\"], [0.1, \"#c51b7d\"], [0.2, \"#de77ae\"], [0.3, \"#f1b6da\"], [0.4, \"#fde0ef\"], [0.5, \"#f7f7f7\"], [0.6, \"#e6f5d0\"], [0.7, \"#b8e186\"], [0.8, \"#7fbc41\"], [0.9, \"#4d9221\"], [1, \"#276419\"]], \"sequential\": [[0.0, \"#0d0887\"], [0.1111111111111111, \"#46039f\"], [0.2222222222222222, \"#7201a8\"], [0.3333333333333333, \"#9c179e\"], [0.4444444444444444, \"#bd3786\"], [0.5555555555555556, \"#d8576b\"], [0.6666666666666666, \"#ed7953\"], [0.7777777777777778, \"#fb9f3a\"], [0.8888888888888888, \"#fdca26\"], [1.0, \"#f0f921\"]], \"sequentialminus\": [[0.0, \"#0d0887\"], [0.1111111111111111, \"#46039f\"], [0.2222222222222222, \"#7201a8\"], [0.3333333333333333, \"#9c179e\"], [0.4444444444444444, \"#bd3786\"], [0.5555555555555556, \"#d8576b\"], [0.6666666666666666, \"#ed7953\"], [0.7777777777777778, \"#fb9f3a\"], [0.8888888888888888, \"#fdca26\"], [1.0, \"#f0f921\"]]}, \"colorway\": [\"#636efa\", \"#EF553B\", \"#00cc96\", \"#ab63fa\", \"#FFA15A\", \"#19d3f3\", \"#FF6692\", \"#B6E880\", \"#FF97FF\", \"#FECB52\"], \"font\": {\"color\": \"#2a3f5f\"}, \"geo\": {\"bgcolor\": \"white\", \"lakecolor\": \"white\", \"landcolor\": \"#E5ECF6\", \"showlakes\": true, \"showland\": true, \"subunitcolor\": \"white\"}, \"hoverlabel\": {\"align\": \"left\"}, \"hovermode\": \"closest\", \"mapbox\": {\"style\": \"light\"}, \"paper_bgcolor\": \"white\", \"plot_bgcolor\": \"#E5ECF6\", \"polar\": {\"angularaxis\": {\"gridcolor\": \"white\", \"linecolor\": \"white\", \"ticks\": \"\"}, \"bgcolor\": \"#E5ECF6\", \"radialaxis\": {\"gridcolor\": \"white\", \"linecolor\": \"white\", \"ticks\": \"\"}}, \"scene\": {\"xaxis\": {\"backgroundcolor\": \"#E5ECF6\", \"gridcolor\": \"white\", \"gridwidth\": 2, \"linecolor\": \"white\", \"showbackground\": true, \"ticks\": \"\", \"zerolinecolor\": \"white\"}, \"yaxis\": {\"backgroundcolor\": \"#E5ECF6\", \"gridcolor\": \"white\", \"gridwidth\": 2, \"linecolor\": \"white\", \"showbackground\": true, \"ticks\": \"\", \"zerolinecolor\": \"white\"}, \"zaxis\": {\"backgroundcolor\": \"#E5ECF6\", \"gridcolor\": \"white\", \"gridwidth\": 2, \"linecolor\": \"white\", \"showbackground\": true, \"ticks\": \"\", \"zerolinecolor\": \"white\"}}, \"shapedefaults\": {\"line\": {\"color\": \"#2a3f5f\"}}, \"ternary\": {\"aaxis\": {\"gridcolor\": \"white\", \"linecolor\": \"white\", \"ticks\": \"\"}, \"baxis\": {\"gridcolor\": \"white\", \"linecolor\": \"white\", \"ticks\": \"\"}, \"bgcolor\": \"#E5ECF6\", \"caxis\": {\"gridcolor\": \"white\", \"linecolor\": \"white\", \"ticks\": \"\"}}, \"title\": {\"x\": 0.05}, \"xaxis\": {\"automargin\": true, \"gridcolor\": \"white\", \"linecolor\": \"white\", \"ticks\": \"\", \"title\": {\"standoff\": 15}, \"zerolinecolor\": \"white\", \"zerolinewidth\": 2}, \"yaxis\": {\"automargin\": true, \"gridcolor\": \"white\", \"linecolor\": \"white\", \"ticks\": \"\", \"title\": {\"standoff\": 15}, \"zerolinecolor\": \"white\", \"zerolinewidth\": 2}}}, \"title\": {\"text\": \"TD3: BipedalWalker-v2\"}, \"xaxis\": {\"title\": {\"text\": \"Episodes\"}}, \"yaxis\": {\"title\": {\"text\": \"Reward\"}}},\n",
       "                        {\"responsive\": true}\n",
       "                    ).then(function(){\n",
       "                            \n",
       "var gd = document.getElementById('cba81610-811f-465b-953d-917c68441f21');\n",
       "var x = new MutationObserver(function (mutations, observer) {{\n",
       "        var display = window.getComputedStyle(gd).display;\n",
       "        if (!display || display === 'none') {{\n",
       "            console.log([gd, 'removed!']);\n",
       "            Plotly.purge(gd);\n",
       "            observer.disconnect();\n",
       "        }}\n",
       "}});\n",
       "\n",
       "// Listen for the removal of the full notebook cells\n",
       "var notebookContainer = gd.closest('#notebook-container');\n",
       "if (notebookContainer) {{\n",
       "    x.observe(notebookContainer, {childList: true});\n",
       "}}\n",
       "\n",
       "// Listen for the clearing of the current output cell\n",
       "var outputEl = gd.closest('.output');\n",
       "if (outputEl) {{\n",
       "    x.observe(outputEl, {childList: true});\n",
       "}}\n",
       "\n",
       "                        })\n",
       "                };\n",
       "                });\n",
       "            </script>\n",
       "        </div>"
      ]
     },
     "metadata": {},
     "output_type": "display_data"
    }
   ],
   "source": [
    "def draw():\n",
    "    step = MAX_EPISODES // len(test_rewards)\n",
    "    x = list(range(1, MAX_EPISODES + 2, step))[:len(test_rewards)]\n",
    "    \n",
    "    fig = go.Figure()\n",
    "    fig.add_trace(go.Scatter(x=x, y=test_rewards, name=\"Test reward (exploit)\"))\n",
    "    fig.add_trace(go.Scatter(x=x, y=train_rewards, name=\"Train reward (exploration)\"))\n",
    "    fig.add_trace(go.Scatter(x=x, y = [300] * len(test_rewards), line=dict(color=\"grey\", width=2, dash=\"dash\"), name=\"win\"))\n",
    "    fig.update_layout(\n",
    "            xaxis = dict(title_text=\"Episodes\"),\n",
    "            yaxis = dict(title_text=\"Reward\"), \n",
    "            title_text = \"TD3: {}\".format(ENV_ID)\n",
    "        )\n",
    "    fig.show()\n",
    "    \n",
    "draw()"
   ]
  },
  {
   "cell_type": "code",
   "execution_count": null,
   "metadata": {},
   "outputs": [],
   "source": []
  }
 ],
 "metadata": {
  "kernelspec": {
   "display_name": "Python 3",
   "language": "python",
   "name": "python3"
  },
  "language_info": {
   "codemirror_mode": {
    "name": "ipython",
    "version": 3
   },
   "file_extension": ".py",
   "mimetype": "text/x-python",
   "name": "python",
   "nbconvert_exporter": "python",
   "pygments_lexer": "ipython3",
   "version": "3.7.6"
  }
 },
 "nbformat": 4,
 "nbformat_minor": 4
}
